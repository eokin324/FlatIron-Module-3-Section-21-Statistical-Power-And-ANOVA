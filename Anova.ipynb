{
 "cells": [
  {
   "cell_type": "code",
   "execution_count": 5,
   "metadata": {},
   "outputs": [
    {
     "name": "stdout",
     "output_type": "stream",
     "text": [
      "                sum_sq    df           F        PR(>F)\n",
      "C(E)      9.152624e+07   2.0   43.351589  7.672450e-11\n",
      "C(M)      5.075724e+08   1.0  480.825394  2.901444e-24\n",
      "X         3.380979e+08   1.0  320.281524  5.546313e-21\n",
      "Residual  4.328072e+07  41.0         NaN           NaN\n"
     ]
    }
   ],
   "source": [
    "import pandas as pd\n",
    "import statsmodels.api as sm\n",
    "from statsmodels.formula.api import ols\n",
    "df = pd.read_csv('IT_salaries.csv')\n",
    "#S - the individuals salary\n",
    "#X - years of experience\n",
    "#E - education level (1-Bachelors, 2-Masters, 3-PHD)\n",
    "#M - management (0-no management, 1-yes management)\n",
    "#Indicate categorical variables by wrapping them with C()\n",
    "formula = 'S ~ C(E) + C(M) + X'\n",
    "lm = ols(formula, df).fit()\n",
    "table = sm.stats.anova_lm(lm, typ=2)\n",
    "print(table)"
   ]
  },
  {
   "cell_type": "code",
   "execution_count": null,
   "metadata": {},
   "outputs": [],
   "source": []
  }
 ],
 "metadata": {
  "kernelspec": {
   "display_name": "Python 3",
   "language": "python",
   "name": "python3"
  },
  "language_info": {
   "codemirror_mode": {
    "name": "ipython",
    "version": 3
   },
   "file_extension": ".py",
   "mimetype": "text/x-python",
   "name": "python",
   "nbconvert_exporter": "python",
   "pygments_lexer": "ipython3",
   "version": "3.7.3"
  }
 },
 "nbformat": 4,
 "nbformat_minor": 2
}
